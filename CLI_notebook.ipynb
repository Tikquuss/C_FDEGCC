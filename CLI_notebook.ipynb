{
  "nbformat": 4,
  "nbformat_minor": 0,
  "metadata": {
    "colab": {
      "name": "CLI_notebook.ipynb",
      "private_outputs": true,
      "provenance": [],
      "collapsed_sections": [],
      "toc_visible": true,
      "include_colab_link": true
    },
    "kernelspec": {
      "name": "python3",
      "display_name": "Python 3"
    },
    "accelerator": "GPU"
  },
  "cells": [
    {
      "cell_type": "markdown",
      "metadata": {
        "id": "view-in-github",
        "colab_type": "text"
      },
      "source": [
        "<a href=\"https://colab.research.google.com/github/Tikquuss/C_FDEGCC/blob/main/CLI_notebook.ipynb\" target=\"_parent\"><img src=\"https://colab.research.google.com/assets/colab-badge.svg\" alt=\"Open In Colab\"/></a>"
      ]
    },
    {
      "cell_type": "markdown",
      "metadata": {
        "id": "Zfo1PXVhsZwT"
      },
      "source": [
        ""
      ]
    },
    {
      "cell_type": "code",
      "metadata": {
        "id": "NTAPUJxbsa2A"
      },
      "source": [
        "! git clone https://github.com/Tikquuss/C_FDEGCC"
      ],
      "execution_count": null,
      "outputs": []
    },
    {
      "cell_type": "code",
      "metadata": {
        "id": "L_5WvPdssmdw"
      },
      "source": [
        "%cd C_FDEGCC"
      ],
      "execution_count": null,
      "outputs": []
    },
    {
      "cell_type": "code",
      "metadata": {
        "id": "h0aSFYeUspNU"
      },
      "source": [
        "from main import Transformer, RNN, SigmoidModel, process_frame, FDDataset, FDDataset4Test, train, setting, get_upsampled, get_undersampled\r\n",
        "\r\n",
        "from sklearn.model_selection import train_test_split\r\n",
        "import pandas as pd"
      ],
      "execution_count": null,
      "outputs": []
    },
    {
      "cell_type": "markdown",
      "metadata": {
        "id": "AksnTRJbtKdp"
      },
      "source": [
        "\r\n",
        "\r\n",
        "---\r\n",
        "**Make sure you have a data file in /content structured like this (Here I load them from my drive):**\r\n",
        "```\r\n",
        "/content\r\n",
        "\t/data\r\n",
        "\t\t/train\r\n",
        "\t\t\t/client_train.csv\r\n",
        "\t\t\t/invoice_train.csv\r\n",
        "\t\t/test\r\n",
        "\t\t\t/client_test.csv\r\n",
        "\t\t\t/invoice_test.csv\r\n",
        "```\r\n",
        "\r\n"
      ]
    },
    {
      "cell_type": "code",
      "metadata": {
        "id": "-y2fhn9XtHDi"
      },
      "source": [
        "from google.colab import drive\r\n",
        "drive.mount('/content/drive')"
      ],
      "execution_count": null,
      "outputs": []
    },
    {
      "cell_type": "code",
      "metadata": {
        "id": "Rgh_FQhXtU5-"
      },
      "source": [
        "! rsync -av --progress --exclude *.zip /content/drive/MyDrive/\"Fraud Detection in Electricity and Gas Consumption\"/data /content"
      ],
      "execution_count": null,
      "outputs": []
    },
    {
      "cell_type": "markdown",
      "metadata": {
        "id": "ZGFd3ik10fsm"
      },
      "source": [
        "# Data"
      ]
    },
    {
      "cell_type": "code",
      "metadata": {
        "id": "Tq7HE6rv29sm"
      },
      "source": [
        "%cd /content"
      ],
      "execution_count": null,
      "outputs": []
    },
    {
      "cell_type": "markdown",
      "metadata": {
        "id": "SQNNXdVH0kLe"
      },
      "source": [
        "### Training and validation data"
      ]
    },
    {
      "cell_type": "code",
      "metadata": {
        "id": "X3Wu4TA2tZZx"
      },
      "source": [
        "client_df = pd.read_csv(\"data/train/client_train.csv\")\r\n",
        "invoice_df = pd.read_csv(\"data/train/invoice_train.csv\")"
      ],
      "execution_count": null,
      "outputs": []
    },
    {
      "cell_type": "code",
      "metadata": {
        "id": "vVlxV8Zrt4tA"
      },
      "source": [
        "client_df, invoice_df= process_frame(client_df, invoice_df)"
      ],
      "execution_count": null,
      "outputs": []
    },
    {
      "cell_type": "code",
      "metadata": {
        "id": "r-uaiELmuNDh"
      },
      "source": [
        "dataset = FDDataset(client_df, invoice_df)"
      ],
      "execution_count": null,
      "outputs": []
    },
    {
      "cell_type": "code",
      "metadata": {
        "id": "QZHBdg279qgX"
      },
      "source": [
        "dataset.batch_size = 8\r\n",
        "x1, x2, y, seq_lens = next(iter(dataset))\r\n",
        "x1.shape, x2.shape, y.shape, seq_lens"
      ],
      "execution_count": null,
      "outputs": []
    },
    {
      "cell_type": "code",
      "metadata": {
        "id": "HItxhIyKuuZo"
      },
      "source": [
        "random_seed = 0\r\n",
        "val_size = 0.2\r\n",
        "train_data, val_data = train_test_split(dataset.data, test_size = val_size, random_state=random_seed)"
      ],
      "execution_count": null,
      "outputs": []
    },
    {
      "cell_type": "markdown",
      "metadata": {
        "id": "MA0-YU-b0qbU"
      },
      "source": [
        "### test data"
      ]
    },
    {
      "cell_type": "code",
      "metadata": {
        "id": "yz-wtpjV02Ve"
      },
      "source": [
        "test_client_df = pd.read_csv(\"data/test/client_test.csv\")\r\n",
        "test_invoice_df = pd.read_csv(\"data/test/invoice_test.csv\")"
      ],
      "execution_count": null,
      "outputs": []
    },
    {
      "cell_type": "code",
      "metadata": {
        "id": "a4JFE_go06mh"
      },
      "source": [
        "test_client_df, test_invoice_df= process_frame(test_client_df, test_invoice_df)"
      ],
      "execution_count": null,
      "outputs": []
    },
    {
      "cell_type": "code",
      "metadata": {
        "id": "gebpq6QR08eA"
      },
      "source": [
        "test_dataset = FDDataset4Test(test_client_df, test_invoice_df)"
      ],
      "execution_count": null,
      "outputs": []
    },
    {
      "cell_type": "markdown",
      "metadata": {
        "id": "iwoMouZvUqw9"
      },
      "source": [
        "# Model\r\n",
        "**We use option 2 (Transformer) and `type_ = 0` for our Leaderbord submission (Zindi)**"
      ]
    },
    {
      "cell_type": "markdown",
      "metadata": {
        "id": "Hy7rFcdMUtgt"
      },
      "source": [
        "## option1 : RNN/LSTM"
      ]
    },
    {
      "cell_type": "code",
      "metadata": {
        "id": "Zb6D6BAIU93w"
      },
      "source": [
        "model_class = RNN\r\n",
        "variant = \"LSTM\" # or \"RNN\"\r\n",
        "model_kwargs = {\r\n",
        "    \"x1_dim\" : 6, \"x2_dim\" : 17, \"hidden_dim\" :100, \"output_dim\":2, \"dropout\": 0.1, \r\n",
        "    \"variant\":variant, \"num_layers\":2, \"bidirectional\": False\r\n",
        "}"
      ],
      "execution_count": null,
      "outputs": []
    },
    {
      "cell_type": "markdown",
      "metadata": {
        "id": "jaeQBomjU1Wh"
      },
      "source": [
        "## option2 : Transformer"
      ]
    },
    {
      "cell_type": "code",
      "metadata": {
        "id": "zjzLSwodUr8Q"
      },
      "source": [
        "model_class = Transformer\r\n",
        "model_kwargs = {\r\n",
        "    \"x1_dim\" : 6, \"x2_dim\" : 17, \"output_dim\" : 2, \"d_model\" : 4*32, \"num_heads\" : 4, \"d_k\" : None, \"d_v\" : None, \r\n",
        "    \"num_encoder_layers\": 3, \"dim_feedforward\" : 100, \"dropout\" : 0.1, \"activation\" : \"relu\"\r\n",
        "}"
      ],
      "execution_count": null,
      "outputs": []
    },
    {
      "cell_type": "markdown",
      "metadata": {
        "id": "gk7FUK0LVRCP"
      },
      "source": [
        "## softmax or sigmoid\r\n",
        "- if `type_ = 0`, he output dimension is $2$, and a `softmax` is applied to the output of the model to transform it into prabability ($[p, 1-p]$), and the final output is worth the index ($0$ or $1$) of the maximum probability.\r\n",
        "\r\n",
        "- if `type_ = 1`, The output dimension is $1$, and a `sigmoid` is applied to the output of the model to transform them into prabability ($p$), and the final output is worth $0$ or $1$ depending on the probability with respect to 0.5."
      ]
    },
    {
      "cell_type": "code",
      "metadata": {
        "id": "-6IDXQ0xVWzd"
      },
      "source": [
        "type_ = 0"
      ],
      "execution_count": null,
      "outputs": []
    },
    {
      "cell_type": "markdown",
      "metadata": {
        "id": "6fSgqYiF1B5S"
      },
      "source": [
        "# prepare data\r\n",
        "**We use option 1 (upsampling) and ```normalize = False``` for our Leaderbord submission (Zindi)**"
      ]
    },
    {
      "cell_type": "markdown",
      "metadata": {
        "id": "s98iymJrvsr2"
      },
      "source": [
        "## option 1 : **upsample minority**"
      ]
    },
    {
      "cell_type": "code",
      "metadata": {
        "id": "5TrKXxd8vle-"
      },
      "source": [
        "sampled = get_upsampled(train_data)"
      ],
      "execution_count": null,
      "outputs": []
    },
    {
      "cell_type": "markdown",
      "metadata": {
        "id": "EhF7Fw0xYffi"
      },
      "source": [
        "## option 1 : **downsample majority**"
      ]
    },
    {
      "cell_type": "code",
      "metadata": {
        "id": "QyG9oU0cYbAc"
      },
      "source": [
        "sampled = get_undersampled(train_data)"
      ],
      "execution_count": null,
      "outputs": []
    },
    {
      "cell_type": "markdown",
      "metadata": {
        "id": "UOy_YpVdYrgE"
      },
      "source": [
        "## ."
      ]
    },
    {
      "cell_type": "code",
      "metadata": {
        "id": "ZHI-cPLbXuyy"
      },
      "source": [
        "len(sampled)"
      ],
      "execution_count": null,
      "outputs": []
    },
    {
      "cell_type": "markdown",
      "metadata": {
        "id": "nKryG2ElcO39"
      },
      "source": [
        "## normalize \r\n",
        "If `normalize = True`, batch normalization will be applied to the data before it is supplied to the model."
      ]
    },
    {
      "cell_type": "code",
      "metadata": {
        "id": "_X_TFHUrcQM5"
      },
      "source": [
        "normalize = False"
      ],
      "execution_count": null,
      "outputs": []
    },
    {
      "cell_type": "markdown",
      "metadata": {
        "id": "GjzHF4HOdWuh"
      },
      "source": [
        "# Train"
      ]
    },
    {
      "cell_type": "code",
      "metadata": {
        "id": "ncJYpWEOfK7L"
      },
      "source": [
        "batch_size = 128\r\n",
        "train_dataset = FDDataset(data = sampled, batch_size = batch_size, normalize = normalize)\r\n",
        "val_dataset = FDDataset(data = val_data, batch_size = batch_size, normalize = normalize)"
      ],
      "execution_count": null,
      "outputs": []
    },
    {
      "cell_type": "code",
      "metadata": {
        "id": "npS1Nn94ZA2b"
      },
      "source": [
        "lr = 3e-6\r\n",
        "n_epochs = 100\r\n",
        "save_path = \"/content/model%d.pth\"%type_"
      ],
      "execution_count": null,
      "outputs": []
    },
    {
      "cell_type": "code",
      "metadata": {
        "id": "2xxa4qqQZKG3"
      },
      "source": [
        "model, optimizer, criterion, device = setting(model_class, lr, type_, model_kwargs)"
      ],
      "execution_count": null,
      "outputs": []
    },
    {
      "cell_type": "code",
      "metadata": {
        "id": "7xGkYyd3ygAB"
      },
      "source": [
        "model = train(model, optimizer, criterion, train_dataset, val_dataset, device, n_epochs = n_epochs, type_ = type_, save_path = save_path)"
      ],
      "execution_count": null,
      "outputs": []
    },
    {
      "cell_type": "markdown",
      "metadata": {
        "id": "cNF_fsRlZ_Bq"
      },
      "source": [
        "# Test (create file for sumbmission)"
      ]
    },
    {
      "cell_type": "code",
      "metadata": {
        "id": "Hffq0Y8KaFw7"
      },
      "source": [
        "prob_csv_file =  \"/content/prob_csv_file%d.csv\"%type_\r\n",
        "pred_csv_file =  \"/content/pred_csv_file%d.csv\"%type_"
      ],
      "execution_count": null,
      "outputs": []
    },
    {
      "cell_type": "code",
      "metadata": {
        "id": "zfxSN9XE1IiV"
      },
      "source": [
        "test_dataset.batch_size = 128\r\n",
        "test_dataset.run_test(model, device, prob_csv_file, pred_csv_file, type_)"
      ],
      "execution_count": null,
      "outputs": []
    }
  ]
}